{
 "cells": [
  {
   "cell_type": "code",
   "execution_count": null,
   "metadata": {},
   "outputs": [],
   "source": [
    "import face_recognition\n",
    "import cv2\n"
   ]
  },
  {
   "cell_type": "code",
   "execution_count": null,
   "metadata": {},
   "outputs": [],
   "source": [
    "image = face_recognition.load_image_file(\"2.jpg\")"
   ]
  },
  {
   "cell_type": "code",
   "execution_count": null,
   "metadata": {},
   "outputs": [
    {
     "name": "stdout",
     "output_type": "stream",
     "text": [
      "[{'chin': [(574, 327), (573, 362), (575, 395), (580, 427), (591, 459), (609, 487), (634, 512), (661, 532), (696, 540), (732, 535), (767, 522), (805, 505), (835, 481), (854, 448), (863, 410), (866, 371), (869, 330)], 'left_eyebrow': [(589, 283), (599, 260), (622, 249), (649, 248), (673, 255)], 'right_eyebrow': [(707, 250), (738, 239), (772, 239), (802, 253), (824, 276)], 'nose_bridge': [(687, 280), (684, 301), (682, 322), (679, 344)], 'nose_tip': [(659, 369), (672, 373), (686, 375), (703, 370), (720, 367)], 'left_eye': [(611, 297), (624, 284), (643, 282), (661, 293), (644, 297), (626, 299)], 'right_eye': [(735, 289), (753, 277), (771, 277), (788, 289), (771, 291), (753, 291)], 'top_lip': [(639, 428), (653, 412), (675, 404), (693, 406), (711, 403), (742, 409), (771, 422), (762, 422), (712, 416), (693, 417), (676, 417), (647, 429)], 'bottom_lip': [(771, 422), (744, 449), (715, 459), (695, 462), (676, 461), (655, 453), (639, 428), (647, 429), (676, 443), (694, 444), (714, 442), (762, 422)]}, {'chin': [(349, 555), (368, 577), (389, 595), (410, 612), (430, 627), (452, 637), (479, 643), (509, 641), (539, 627), (564, 606), (583, 583), (599, 556), (605, 525), (601, 492), (589, 457), (573, 423), (557, 389)], 'left_eyebrow': [(331, 522), (330, 504), (340, 488), (357, 474), (377, 468)], 'right_eyebrow': [(405, 438), (419, 416), (440, 400), (466, 391), (494, 392)], 'nose_bridge': [(411, 474), (421, 488), (430, 502), (440, 517)], 'nose_tip': [(441, 550), (451, 546), (463, 541), (471, 530), (479, 519)], 'left_eye': [(360, 525), (367, 510), (380, 500), (399, 499), (388, 511), (374, 521)], 'right_eye': [(450, 458), (456, 440), (470, 429), (488, 426), (479, 439), (466, 450)], 'top_lip': [(457, 598), (461, 581), (470, 567), (480, 563), (488, 552), (508, 543), (533, 535), (526, 541), (495, 560), (486, 568), (478, 575), (464, 593)], 'bottom_lip': [(533, 535), (526, 557), (514, 573), (504, 583), (494, 591), (477, 599), (457, 598), (464, 593), (483, 580), (492, 573), (502, 564), (526, 541)]}] \n",
      "\n",
      "\n",
      "chin\n",
      "left_eyebrow\n",
      "right_eyebrow\n",
      "nose_bridge\n",
      "nose_tip\n",
      "left_eye\n",
      "right_eye\n",
      "top_lip\n",
      "bottom_lip\n"
     ]
    }
   ],
   "source": [
    "image = cv2.cvtColor(image,cv2.COLOR_BGR2RGB)\n",
    "face_landmarks_list = face_recognition.face_landmarks(image)\n",
    "print(face_landmarks_list,\"\\n\\n\")\n",
    "\n",
    "for feature in face_landmarks_list[0]:\n",
    "    print(feature)\n",
    "    for x in face_landmarks_list[0][feature]:\n",
    "        cv2.circle(image,x,1,(0,255,0), 2)\n",
    "cv2.imshow('Output', image)\n",
    "cv2.waitKey(0)"
   ]
  },
  {
   "cell_type": "code",
   "execution_count": null,
   "metadata": {},
   "outputs": [],
   "source": [
    "features['top_lip']"
   ]
  },
  {
   "cell_type": "code",
   "execution_count": null,
   "metadata": {},
   "outputs": [],
   "source": [
    "image = cv2.cvtColor(image,cv2.COLOR_BGR2RGB)\n",
    "face_landmarks_list = face_recognition.face_landmarks(image)\n",
    "print(face_landmarks_list,\"\\n\\n\")\n",
    "\n",
    "features_dict = dict()\n",
    "count = 0\n",
    "for i in range(0,len(face_landmarks_list)):\n",
    "    for feature in face_landmarks_list[0]:\n",
    "        count+=1\n",
    "        print(\"FEATURE is \", feature)\n",
    "        if feature in features_dict:\n",
    "            #append the new landmark to the existing array at this slot\n",
    "            #print(\"Appending...\", face_landmarks_list[0][feature])\n",
    "            for j in range(0,len(face_landmarks_list[i][feature])):\n",
    "                features_dict[feature].append(face_lanmarks_list[i][feature][j])\n",
    "        else:\n",
    "            #create a new array in this slot\n",
    "            features_dict[feature] = face_landmarks_list[i][feature]\n",
    "print(\"Ran\", count, \"times\")\n",
    "\n",
    "count = 0\n",
    "for feature in features_dict:\n",
    "    print(feature)\n",
    "    count+=1\n",
    "    for x in features_dict[feature]:\n",
    "        cv2.circle(image,x,1,(0,255,0),2)\n",
    "print(count)\n",
    "cv2.imshow('Output', image)\n",
    "cv2.waitKey(0)\n",
    "                \n",
    "                "
   ]
  }
 ],
 "metadata": {
  "kernelspec": {
   "display_name": "Python 3",
   "language": "python",
   "name": "python3"
  },
  "language_info": {
   "codemirror_mode": {
    "name": "ipython",
    "version": 3
   },
   "file_extension": ".py",
   "mimetype": "text/x-python",
   "name": "python",
   "nbconvert_exporter": "python",
   "pygments_lexer": "ipython3",
   "version": "3.7.3"
  }
 },
 "nbformat": 4,
 "nbformat_minor": 2
}
